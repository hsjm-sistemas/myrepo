{
 "cells": [
  {
   "cell_type": "markdown",
   "metadata": {},
   "source": [
    "calculate interest"
   ]
  },
  {
   "cell_type": "code",
   "execution_count": null,
   "metadata": {},
   "outputs": [],
   "source": [
    "# Function to calculate simple interest \n",
    "def simple_interest(principal, rate, time):\n",
    "    \n",
    "    # Calculate simple interest\n",
    "    interest = principal * rate * time\n",
    "    \n",
    "    # Return interest \n",
    "    return interest\n",
    "\n",
    "principal = 5000\n",
    "rate = 0.1 \n",
    "time = 5\n",
    "\n",
    "interest = simple_interest(principal, rate, time)\n",
    "print(interest) # 2500.0"
   ]
  },
  {
   "cell_type": "code",
   "execution_count": 4,
   "metadata": {},
   "outputs": [
    {
     "name": "stdout",
     "output_type": "stream",
     "text": [
      "1\n"
     ]
    }
   ],
   "source": [
    "def num(a, b):\n",
    "    if a > b:\n",
    "        x = 1\n",
    "    else:\n",
    "        x = 2\n",
    "    return x\n",
    "\n",
    "result = num(57, 6)\n",
    "print(result)"
   ]
  },
  {
   "cell_type": "markdown",
   "metadata": {},
   "source": [
    "- Cree una función que compruebe si una palabra es un palíndromo\n",
    "\n",
    "- Escriba una función que encuentre el máximo de tres números\n",
    "\n",
    "- Desarrolle una función que formatee una cadena de fecha en un formato legible\n",
    "\n",
    "- Defina una función para generar una contraseña aleatoria"
   ]
  },
  {
   "cell_type": "code",
   "execution_count": 6,
   "metadata": {},
   "outputs": [
    {
     "name": "stdout",
     "output_type": "stream",
     "text": [
      "9 3\n"
     ]
    }
   ],
   "source": [
    "i = 0\n",
    "while True:\n",
    "    x = 9\n",
    "\n",
    "    if x < 8:\n",
    "        break\n",
    "    elif i > 2:\n",
    "        break\n",
    "    x = 6\n",
    "    i = i + 1\n",
    "print(x,i)"
   ]
  }
 ],
 "metadata": {
  "kernelspec": {
   "display_name": "Python 3",
   "language": "python",
   "name": "python3"
  },
  "language_info": {
   "codemirror_mode": {
    "name": "ipython",
    "version": 3
   },
   "file_extension": ".py",
   "mimetype": "text/x-python",
   "name": "python",
   "nbconvert_exporter": "python",
   "pygments_lexer": "ipython3",
   "version": "3.6.8"
  }
 },
 "nbformat": 4,
 "nbformat_minor": 2
}
